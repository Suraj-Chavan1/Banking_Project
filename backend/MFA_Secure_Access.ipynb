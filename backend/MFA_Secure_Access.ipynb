{
  "nbformat": 4,
  "nbformat_minor": 0,
  "metadata": {
    "colab": {
      "provenance": []
    },
    "kernelspec": {
      "name": "python3",
      "display_name": "Python 3"
    },
    "language_info": {
      "name": "python"
    }
  },
  "cells": [
    {
      "cell_type": "markdown",
      "source": [
        "## Connect to an Azure SQL Database with MFA using Python pyodbc on , by using an access token."
      ],
      "metadata": {
        "id": "UsaPGewWMslC"
      }
    },
    {
      "cell_type": "markdown",
      "source": [
        "Step-by-Step Guide\n",
        "Authenticate with Azure CLI:\n",
        "\n",
        "1)Open the command line interface and run the command az login to authenticate with Azure CLI.\n",
        "Set Up the Python Environment\n",
        "\n",
        "\n",
        "2)Create an instance of the AzureCliCredential class to acquire the access token:\n",
        "\n",
        "3)Build the Connection String\n",
        "\n",
        "4)Construct the connection string, including the acquired access token:\n",
        "\n",
        "5)Perform a Sample Query\n",
        "\n",
        "6)To ensure the connection is successful, execute a sample query:\n",
        "cursor = conn.cursor()"
      ],
      "metadata": {
        "id": "fGayedp8M64N"
      }
    },
    {
      "cell_type": "code",
      "execution_count": null,
      "metadata": {
        "id": "dU0hIuz-MjHb"
      },
      "outputs": [],
      "source": [
        "from azure.identity import AzureCliCredential\n",
        "import struct\n",
        "import pyodbc\n",
        "\n",
        "# input params\n",
        "server = '<your server address>'\n",
        "database = '<database name>'\n",
        "query = 'SELECT * from dbo.Address;'\n",
        "\n",
        "# Use the cli credential to get a token after the user has signed in via the Azure CLI 'az login' command.\n",
        "credential = AzureCliCredential()\n",
        "databaseToken = credential.get_token('https://database.windows.net/')\n",
        "\n",
        "# get bytes from token obtained\n",
        "tokenb = bytes(databaseToken[0], \"UTF-8\")\n",
        "exptoken = b'';\n",
        "for i in tokenb:\n",
        " exptoken += bytes({i});\n",
        " exptoken += bytes(1);\n",
        "tokenstruct = struct.pack(\"=i\", len(exptoken)) + exptoken;\n",
        "\n",
        "# build connection string using acquired token\n",
        "connString = \"Driver={ODBC Driver 17 for SQL Server};SERVER=\"+server+\";DATABASE=\"+database+\"\"\n",
        "SQL_COPT_SS_ACCESS_TOKEN = 1256\n",
        "conn = pyodbc.connect(connString, attrs_before = {SQL_COPT_SS_ACCESS_TOKEN:tokenstruct});\n",
        "\n",
        "# sample query\n",
        "cursor = conn.cursor()\n",
        "cursor.execute(query)\n",
        "row = cursor.fetchone()\n",
        "while row:\n",
        "    print (str(row[0]) + \" \" + str(row[1]))\n",
        "    row = cursor.fetchone()"
      ]
    },
    {
      "cell_type": "code",
      "source": [],
      "metadata": {
        "id": "nNAwGdZMM1AC"
      },
      "execution_count": null,
      "outputs": []
    }
  ]
}