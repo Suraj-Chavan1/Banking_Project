{
  "nbformat": 4,
  "nbformat_minor": 0,
  "metadata": {
    "colab": {
      "provenance": []
    },
    "kernelspec": {
      "name": "python3",
      "display_name": "Python 3"
    },
    "language_info": {
      "name": "python"
    }
  },
  "cells": [
    {
      "cell_type": "markdown",
      "source": [
        "# News API use for BOB Hackathon product\n",
        "\n",
        "Aim:\n",
        "1. Understand how to use News API and its features\n",
        "2. Learn relevant details to integrate it in \"Walter White\" (not mentioned in python notebook)\n",
        "\n",
        "---\n",
        "Team Cyber Wardens, VIT Pune\n",
        "---\n",
        "Pratham Gadkari, Anuj Tadkase, Suraj Chavan"
      ],
      "metadata": {
        "id": "1zGgldjTcEzS"
      }
    },
    {
      "cell_type": "markdown",
      "source": [
        "Installing dependencies"
      ],
      "metadata": {
        "id": "xHBX0OxucXAg"
      }
    },
    {
      "cell_type": "code",
      "execution_count": null,
      "metadata": {
        "id": "Dp3XL_PLbbDY"
      },
      "outputs": [],
      "source": [
        "!pip install newsapi-python\n",
        "from newsapi import NewsApiClient\n",
        "\n",
        "from IPython.display import IFrame,clear_output\n",
        "clear_output()"
      ]
    },
    {
      "cell_type": "markdown",
      "source": [
        "Setting up the API"
      ],
      "metadata": {
        "id": "eTVin-Zpcs57"
      }
    },
    {
      "cell_type": "code",
      "source": [
        "api_key = input()\n",
        "\n",
        "api = NewsApiClient(api_key=api_key)"
      ],
      "metadata": {
        "id": "W-LNR0XxbfBr"
      },
      "execution_count": null,
      "outputs": []
    },
    {
      "cell_type": "markdown",
      "source": [
        "Get all news articles related to GPU"
      ],
      "metadata": {
        "id": "fhf7hDRkcwgC"
      }
    },
    {
      "cell_type": "code",
      "source": [
        "api.get_everything(q='gpu')"
      ],
      "metadata": {
        "id": "1sefRd7ubhSU"
      },
      "execution_count": null,
      "outputs": []
    },
    {
      "cell_type": "markdown",
      "source": [
        "Get all articles related to 3D printing"
      ],
      "metadata": {
        "id": "HTeQahBbczxH"
      }
    },
    {
      "cell_type": "code",
      "source": [
        "search = input('Input the search topic\\n')\n",
        "\n",
        "for article,idx in zip(api.get_everything(q=search)['articles'],range(len(api.get_everything(q='3d printing')['articles']))):\n",
        "  print(f'Article {idx}\\n','Title:',article['title'],'\\n','Author:',article['author'],'\\n','Description:',article['description'],'\\n','URL:',article['url'],'\\n\\n\\n')\n",
        ""
      ],
      "metadata": {
        "id": "NqiawFuHbj9e"
      },
      "execution_count": null,
      "outputs": []
    },
    {
      "cell_type": "markdown",
      "source": [
        "Get articles and show their url in an IFrame"
      ],
      "metadata": {
        "id": "6_G39YUuc54J"
      }
    },
    {
      "cell_type": "code",
      "source": [
        "IFrame(api.get_everything('gpu')['articles'][9]['url'],width=1800, height=1000)\n"
      ],
      "metadata": {
        "id": "FX6xqbv9bnVe"
      },
      "execution_count": null,
      "outputs": []
    },
    {
      "cell_type": "markdown",
      "source": [
        "Sort by top for headlines related to the keyword \"Iphone\""
      ],
      "metadata": {
        "id": "hfZ8q0qHc_6B"
      }
    },
    {
      "cell_type": "code",
      "source": [
        "api.get_top_headlines('iphone')\n"
      ],
      "metadata": {
        "id": "Z045Rl8bbpso"
      },
      "execution_count": null,
      "outputs": []
    },
    {
      "cell_type": "code",
      "source": [
        "search = input('Input the search topic\\n')\n",
        "\n",
        "for article,idx in zip(api.get_top_headlines(q=search)['articles'],range(len(api.get_everything(q='3d printing')['articles']))):\n",
        "  print(f'Article {idx}\\n','Title:',article['title'],'\\n','Author:',article['author'],'\\n','Description:',article['description'],'\\n','URL:',article['url'],'\\n\\n\\n')\n",
        ""
      ],
      "metadata": {
        "id": "7A0qCISJbrgd"
      },
      "execution_count": null,
      "outputs": []
    },
    {
      "cell_type": "markdown",
      "source": [
        "Get Articles in different languages"
      ],
      "metadata": {
        "id": "16wRwZsRdKkA"
      }
    },
    {
      "cell_type": "code",
      "source": [
        "search = input('Input the search topic\\n')\n",
        "\n",
        "\n",
        "iso_639 = ['ar',\t'de',\t'en',\t'es',\t'fr',\t'he',\t'it',\t'nl',\t'no',\t'pt',\t'ru',\t'zh']\n",
        "\n",
        "for lang in iso_639:\n",
        "  print(f'Language used for search: {lang}')\n",
        "  for article,idx in zip(api.get_everything(q=search, language=lang)['articles'],range(len(api.get_everything(q='3d printing')['articles']))):\n",
        "    print(f'Article {idx}\\n','Title:',article['title'],'\\n','Author:',article['author'],'\\n','Description:',article['description'],'\\n','URL:',article['url'],'\\n\\n\\n')\n",
        ""
      ],
      "metadata": {
        "id": "8xWjBW9nbvSS"
      },
      "execution_count": null,
      "outputs": []
    },
    {
      "cell_type": "code",
      "source": [
        "IFrame(api.get_everything(q='gpu', language='fr')['articles'][0]['url'],width=1800, height=1000)\n"
      ],
      "metadata": {
        "id": "GydvHbRwbxmT"
      },
      "execution_count": null,
      "outputs": []
    },
    {
      "cell_type": "markdown",
      "source": [
        "Get Articles from different countries"
      ],
      "metadata": {
        "id": "QTcHHALCdQNU"
      }
    },
    {
      "cell_type": "code",
      "source": [
        "country_list = [\"United Arab Emirates\",\t\"Argentina\",\t\"Austria\",\t\"Australia\",\t\"Belgium\",\t\"Bulgaria\",\t\"Brazil\",\t\"Canada\",\t\"Switzerland\",\t\"China\",\n",
        "                \"Colombia\",\t\"Cuba\",\t\"Czech Republic\",\t\"Germany\",\t\"Egypt\",\t\"France\",\t\"United Kingdom\",\t\"Greece\",\t\"Hong Kong\",\t\"Hungary\",\t\"Indonesia\",\n",
        "                \"Ireland\",\t\"Israel\",\t\"India\",\t\"Italy\",\t\"Japan\",\t\"Republic of Korea\",\t\"Lithuania\",\t\"Latvia\",\t\"Morocco\",\t\"Mexico\",\t\"Malaysia\",\t\"Nigeria\",\n",
        "                \"Netherlands\",\t\"Norway\",\t\"New Zeland\",\t\"Philippines\",\t\"Poland\",\t\"Portugal\",\t\"Romania\",\t\"Serbia\",\t\"Russian Federation\",\t\"Saudi Arabia\",\n",
        "                \"Sweden\",\t\"Singapore\",\t\"Slovenia\",\t\"Slovakia\",\t\"Thailand\",\t\"Turkey\",\t\"Taiwan\",\t\"Ukraine\",\t\"United States\",\t\"Venezuela\",\t\"South Africa\"]\n",
        "\n",
        "country_codes = [\"ae\",\t\"ar\",\t\"at\",\t\"au\",\t\"be\",\t\"bg\",\t\"br\",\t\"ca\",\t\"ch\",\t\"cn\",\t\"co\",\t\"cu\",\t\"cz\",\t\"de\",\t\"eg\",\t\"fr\",\t\"gb\",\t\"gr\",\t\"hk\",\t\"hu\",\t\"id\",\t\"ie\",\t\"il\",\n",
        "                 \"in\",\t\"it\",\t\"jp\",\t\"kr\",\t\"lt\",\t\"lv\",\t\"ma\",\t\"mx\",\t\"my\",\t\"ng\",\t\"nl\",\t\"no\",\t\"nz\",\t\"ph\",\t\"pl\",\t\"pt\",\t\"ro\",\t\"rs\",\t\"ru\",\t\"sa\",\t\"se\",\t\"sg\",\t\"si\",\n",
        "                 \"sk\",\t\"th\",\t\"tr\",\t\"tw\",\t\"ua\",\t\"us\",\t\"ve\",\t\"za\"]\n",
        "\n",
        "country_dict = dict(zip(country_list,country_codes))"
      ],
      "metadata": {
        "id": "U8Iavnisb_aB"
      },
      "execution_count": null,
      "outputs": []
    },
    {
      "cell_type": "markdown",
      "source": [
        "Get headlines from a single country"
      ],
      "metadata": {
        "id": "8j4AdhlddTGm"
      }
    },
    {
      "cell_type": "code",
      "source": [
        "api.get_top_headlines(q='tech',country=country_dict['United Kingdom'])\n"
      ],
      "metadata": {
        "id": "RzoomaDHcBE7"
      },
      "execution_count": null,
      "outputs": []
    }
  ]
}