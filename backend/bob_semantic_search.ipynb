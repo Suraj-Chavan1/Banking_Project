{
  "nbformat": 4,
  "nbformat_minor": 0,
  "metadata": {
    "colab": {
      "provenance": []
    },
    "kernelspec": {
      "name": "python3",
      "display_name": "Python 3"
    },
    "language_info": {
      "name": "python"
    }
  },
  "cells": [
    {
      "cell_type": "markdown",
      "source": [
        "# Semantic Search with Azure Cognitive Search\n",
        "\n",
        "Aim:\n",
        "1. Demonstrate the profound capabilities of Cognitive Search in discerning and retrieving meaningful content\n",
        "2. Showcasing its superiority over conventional search mechanisms in understanding and processing complex human languages and interactions\n",
        "\n",
        "with respect to use in \"Walter White\" as our product.\n",
        "\n",
        "Requirements:\n",
        "1. [“Frederick Douglass,” written by Booker T. Washington](https://books.google.com/googlebooks/about/free_books.html/)\n",
        "2. An Azure Subscription\n",
        "\n",
        "Notes:\n",
        "1. admin_key, service_key and other important credentials to be hidden before committing to GitHub\n",
        "---\n",
        "\n",
        "Team Cyber Wardens, VIT Pune\n",
        "---\n"
      
      ],
      "metadata": {
        "id": "hQf1urvhX9uA"
      }
    },
    {
      "cell_type": "markdown",
      "source": [
        "Installing dependencies"
      ],
      "metadata": {
        "id": "Yor3GX1JY6Xt"
      }
    },
    {
      "cell_type": "code",
      "source": [
        "!pip install azure-search-documents pdfplumber"
      ],
      "metadata": {
        "id": "IlrPCcjXWb4L"
      },
      "execution_count": null,
      "outputs": []
    },
    {
      "cell_type": "markdown",
      "source": [
        "Setting up Azure Cognitive Search Service"
      ],
      "metadata": {
        "id": "o8m6jW-gY-yU"
      }
    },
    {
      "cell_type": "code",
      "source": [
        "from azure.core.credentials import AzureKeyCredential\n",
        "from azure.search.documents.indexes import SearchIndexClient\n",
        "from azure.search.documents import SearchClient\n",
        "\n",
        "service_name = \"**hidden**\"\n",
        "admin_key = \"**hidden**\"\n",
        "index_name = \"**hidden**\"\n",
        "\n",
        "endpoint = f\"https://{service_name}.search.windows.net/\"\n",
        "admin_client = SearchIndexClient(endpoint=endpoint, index_name=index_name, credential=AzureKeyCredential(admin_key))\n",
        "search_client = SearchClient(endpoint=endpoint, index_name=index_name, credential=AzureKeyCredential(admin_key))"
      ],
      "metadata": {
        "id": "4lmAFVQ-XamO"
      },
      "execution_count": null,
      "outputs": []
    },
    {
      "cell_type": "markdown",
      "source": [
        "Define the index schema and create the index."
      ],
      "metadata": {
        "id": "pkMb_8uiZPyj"
      }
    },
    {
      "cell_type": "code",
      "source": [
        "from azure.search.documents.indexes.models import SearchIndex, SimpleField, SearchFieldDataType, SearchableField\n",
        "\n",
        "fields = [\n",
        "    SimpleField(name=\"id\", type=SearchFieldDataType.String, key=True),\n",
        "    SearchableField(name=\"title\", type=SearchFieldDataType.String, sortable=True),\n",
        "    SearchableField(name=\"content\", type=SearchFieldDataType.String, analyzer_name=\"en.lucene\"),\n",
        "]\n",
        "index = SearchIndex(name=index_name, fields=fields)\n",
        "admin_client.create_index(index)"
      ],
      "metadata": {
        "id": "dM2fBWNcXc2v"
      },
      "execution_count": null,
      "outputs": []
    },
    {
      "cell_type": "markdown",
      "source": [
        "Download and Read the PDF Content"
      ],
      "metadata": {
        "id": "igyFN7plZTeR"
      }
    },
    {
      "cell_type": "code",
      "source": [
        "import pdfplumber\n",
        "import requests\n",
        "\n",
        "url = \"https://raw.githubusercontent.com/fenago/datasets/main/books/Frederick_Douglass.pdf\"\n",
        "response = requests.get(url)\n",
        "filename = \"Frederick_Douglass.pdf\"\n",
        "\n",
        "with open(filename, 'wb') as file:\n",
        "    file.write(response.content)\n",
        "\n",
        "with pdfplumber.open(filename) as pdf:\n",
        "    text = ''.join(page.extract_text() for page in pdf.pages)\n",
        "print(text[:500])  # print the first 500 characters of the book"
      ],
      "metadata": {
        "id": "BcoN3a_9Xg5J"
      },
      "execution_count": null,
      "outputs": []
    },
    {
      "cell_type": "markdown",
      "source": [
        "Upload Data to Index"
      ],
      "metadata": {
        "id": "H1Muj4JUZi6M"
      }
    },
    {
      "cell_type": "code",
      "source": [
        "batch = [{\"@search.action\": \"upload\", \"id\": \"1\", \"title\": \"Frederick Douglass\", \"content\": text}]\n",
        "results = search_client.upload_documents(batch)"
      ],
      "metadata": {
        "id": "t9Jqj2OZXlHP"
      },
      "execution_count": null,
      "outputs": []
    },
    {
      "cell_type": "markdown",
      "source": [
        "Perform Semantic Search"
      ],
      "metadata": {
        "id": "HTe70mQEZkQB"
      }
    },
    {
      "cell_type": "code",
      "source": [
        "search_text = \"freedom\"\n",
        "results = search_client.search(search_text=search_text, include_total_count=True)\n",
        "for result in results:\n",
        "    print(result)"
      ],
      "metadata": {
        "id": "Vrr1UlaTXmlq"
      },
      "execution_count": null,
      "outputs": []
    },
    {
      "cell_type": "code",
      "source": [
        "search_text = \"who is Frederick Douglas?\"\n",
        "results = search_client.search(search_text=search_text, include_total_count=True)\n",
        "\n",
        "for result in results:\n",
        "    print(f\"ID: {result['id']}\")\n",
        "    print(f\"Title: {result['title']}\")\n",
        "    print(f\"Content: {result['content']}\\n{'='*40}\\n\")"
      ],
      "metadata": {
        "id": "odCS3eW7XoAs"
      },
      "execution_count": null,
      "outputs": []
    },
    {
      "cell_type": "code",
      "source": [
        "import json\n",
        "\n",
        "search_text = \"who is Frederick Douglas?\"\n",
        "results = search_client.search(search_text=search_text, include_total_count=True)\n",
        "\n",
        "for result in results:\n",
        "    print(json.dumps(result, indent=4))\n",
        "    print('='*40)"
      ],
      "metadata": {
        "id": "K0iu9xplXprC"
      },
      "execution_count": null,
      "outputs": []
    }
  ]
}
