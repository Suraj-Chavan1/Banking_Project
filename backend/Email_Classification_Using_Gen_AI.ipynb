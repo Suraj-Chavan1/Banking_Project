{
  "nbformat": 4,
  "nbformat_minor": 0,
  "metadata": {
    "colab": {
      "provenance": []
    },
    "kernelspec": {
      "name": "python3",
      "display_name": "Python 3"
    },
    "language_info": {
      "name": "python"
    }
  },
  "cells": [
    {
      "cell_type": "markdown",
      "source": [
        " Import necessary libraries"
      ],
      "metadata": {
        "id": "ncHyk5tIq2T1"
      }
    },
    {
      "cell_type": "code",
      "execution_count": null,
      "metadata": {
        "id": "sgiuBEmqqvkc"
      },
      "outputs": [],
      "source": [
        "\n",
        "from transformers import pipeline\n",
        "import pandas as pd\n"
      ]
    },
    {
      "cell_type": "markdown",
      "source": [
        " Load a pre-trained model and tokenizer"
      ],
      "metadata": {
        "id": "kkd5oi_lq8XS"
      }
    },
    {
      "cell_type": "code",
      "source": [
        "\n",
        "classifier = pipeline(\"text-classification\", model=\"distilbert-base-uncased-finetuned-sst-2-english\")"
      ],
      "metadata": {
        "id": "cDP__uiBq6qb"
      },
      "execution_count": null,
      "outputs": []
    },
    {
      "cell_type": "markdown",
      "source": [
        "\n",
        "Function to categorize email"
      ],
      "metadata": {
        "id": "JVCLzArzrHBg"
      }
    },
    {
      "cell_type": "code",
      "source": [
        "\n",
        "def categorize_email(email_text):\n",
        "    result = classifier(email_text)\n",
        "    return result[0]['label']"
      ],
      "metadata": {
        "id": "kNQvmuLerKE7"
      },
      "execution_count": null,
      "outputs": []
    },
    {
      "cell_type": "markdown",
      "source": [
        "Example data (replace with your email data)\n"
      ],
      "metadata": {
        "id": "fuJUDjd7rNII"
      }
    },
    {
      "cell_type": "code",
      "source": [
        "\n",
        "\n",
        "emails = [\n",
        "    \"Dear customer, your bank statement for June is now available.\",\n",
        "    \"Special offer: Get 50% off on your next purchase!\",\n",
        "    \"Your bank account has been updated with the latest transactions.\",\n",
        "    \"Win a free trip to Hawaii by participating in our survey!\"\n",
        "]\n",
        "\n"
      ],
      "metadata": {
        "id": "HknBy1o9rE62"
      },
      "execution_count": null,
      "outputs": []
    },
    {
      "cell_type": "markdown",
      "source": [
        "Create a DataFrame to store emails and their categories\n"
      ],
      "metadata": {
        "id": "OI74tAH1rWha"
      }
    },
    {
      "cell_type": "code",
      "source": [
        "email_df = pd.DataFrame(emails, columns=[\"Email\"])\n",
        "email_df['Category'] = email_df['Email'].apply(categorize_email)\n",
        "\n",
        "\n",
        "\n"
      ],
      "metadata": {
        "id": "eyi8OYyVrUvB"
      },
      "execution_count": null,
      "outputs": []
    },
    {
      "cell_type": "markdown",
      "source": [
        " Display the categorized emails"
      ],
      "metadata": {
        "id": "BUwBwN0drbZF"
      }
    },
    {
      "cell_type": "code",
      "source": [
        "email_df"
      ],
      "metadata": {
        "id": "KivW02XKra0W"
      },
      "execution_count": null,
      "outputs": []
    }
  ]
}